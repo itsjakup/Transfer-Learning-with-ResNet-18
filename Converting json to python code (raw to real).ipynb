{
 "cells": [
  {
   "cell_type": "markdown",
   "id": "bb3ef672",
   "metadata": {},
   "source": [
    "# **Converting raw code to real code (json to py)**"
   ]
  },
  {
   "cell_type": "code",
   "execution_count": null,
   "id": "4fce05de",
   "metadata": {},
   "outputs": [],
   "source": [
    "import json\n",
    "\n",
    "# The name of the notebook file you saved\n",
    "notebook_filename = 'notebook.json' \n",
    "# The name of the Python script we want to create\n",
    "output_filename = 'extracted_code.py'\n",
    "\n",
    "try:\n",
    "    # Open and read the notebook file\n",
    "    with open(notebook_filename, 'r', encoding='utf-8') as f:\n",
    "        notebook_data = json.load(f)\n",
    "\n",
    "    # Open the new python script file for writing\n",
    "    with open(output_filename, 'w', encoding='utf-8') as py_file:\n",
    "        # Get the list of cells\n",
    "        cells = notebook_data.get('cells', [])\n",
    "        \n",
    "        for i, cell in enumerate(cells):\n",
    "            # Check if it's a code cell and has source code\n",
    "            if cell.get('cell_type') == 'code' and 'source' in cell:\n",
    "                \n",
    "                # Add a comment to show where the cell came from\n",
    "                py_file.write(f'# {\"=\"*25} CELL {i+1} {\"=\"*25}\\n\\n')\n",
    "                \n",
    "                # Join the lines of code and write to the file\n",
    "                code_block = ''.join(cell['source'])\n",
    "                py_file.write(code_block)\n",
    "                \n",
    "                # Add newlines for spacing between cells\n",
    "                py_file.write('\\n\\n')\n",
    "\n",
    "    print(f\"Successfully converted '{notebook_filename}' to '{output_filename}'\")\n",
    "\n",
    "except FileNotFoundError:\n",
    "    print(f\"Error: The file '{notebook_filename}' was not found. Please save the JSON to that file first.\")\n",
    "except Exception as e:\n",
    "    print(f\"An error occurred: {e}\")"
   ]
  }
 ],
 "metadata": {
  "kernelspec": {
   "display_name": "Python 3",
   "language": "python",
   "name": "python3"
  },
  "language_info": {
   "name": "python",
   "version": "3.13.2"
  }
 },
 "nbformat": 4,
 "nbformat_minor": 5
}
